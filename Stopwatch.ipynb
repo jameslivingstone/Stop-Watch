{
 "cells": [
  {
   "cell_type": "code",
   "execution_count": 1,
   "id": "9e5e5699",
   "metadata": {},
   "outputs": [
    {
     "name": "stdout",
     "output_type": "stream",
     "text": [
      "Press Enter to start\n",
      "Press Enter to stop\n",
      "Time Lapsed = 0:0:2.5905356407165527\n"
     ]
    }
   ],
   "source": [
    "import time\n",
    "def time_convert(sec):\n",
    "  mins = sec // 60\n",
    "  sec = sec % 60\n",
    "  hours = mins // 60\n",
    "  mins = mins % 60\n",
    "  print(\"Time Lapsed = {0}:{1}:{2}\".format(int(hours),int(mins),sec))\n",
    "input(\"Press Enter to start\")\n",
    "start_time = time.time()\n",
    "input(\"Press Enter to stop\")\n",
    "end_time = time.time()\n",
    "time_lapsed = end_time - start_time\n",
    "time_convert(time_lapsed)"
   ]
  },
  {
   "cell_type": "code",
   "execution_count": null,
   "id": "47a65c75",
   "metadata": {},
   "outputs": [],
   "source": []
  }
 ],
 "metadata": {
  "kernelspec": {
   "display_name": "Python 3 (ipykernel)",
   "language": "python",
   "name": "python3"
  },
  "language_info": {
   "codemirror_mode": {
    "name": "ipython",
    "version": 3
   },
   "file_extension": ".py",
   "mimetype": "text/x-python",
   "name": "python",
   "nbconvert_exporter": "python",
   "pygments_lexer": "ipython3",
   "version": "3.9.7"
  }
 },
 "nbformat": 4,
 "nbformat_minor": 5
}
